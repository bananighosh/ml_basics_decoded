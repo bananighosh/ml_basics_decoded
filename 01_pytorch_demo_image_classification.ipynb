{
  "nbformat": 4,
  "nbformat_minor": 0,
  "metadata": {
    "colab": {
      "provenance": [],
      "gpuType": "T4",
      "authorship_tag": "ABX9TyOP9YwH6ENjtrq3Km48mZOS",
      "include_colab_link": true
    },
    "kernelspec": {
      "name": "python3",
      "display_name": "Python 3"
    },
    "language_info": {
      "name": "python"
    },
    "accelerator": "GPU"
  },
  "cells": [
    {
      "cell_type": "markdown",
      "metadata": {
        "id": "view-in-github",
        "colab_type": "text"
      },
      "source": [
        "<a href=\"https://colab.research.google.com/github/bananighosh/ml_basics_decoded/blob/main/01_pytorch_demo_image_classification.ipynb\" target=\"_parent\"><img src=\"https://colab.research.google.com/assets/colab-badge.svg\" alt=\"Open In Colab\"/></a>"
      ]
    },
    {
      "cell_type": "code",
      "execution_count": 14,
      "metadata": {
        "id": "rS58F2eqKZnQ"
      },
      "outputs": [],
      "source": [
        "import numpy as np\n",
        "import torch\n",
        "import torchvision"
      ]
    },
    {
      "cell_type": "markdown",
      "source": [
        "Torch believes everything is a tensor.\n",
        "\n",
        "What is a tensor?\n",
        "A: Tensors are a specialized data structure that are very similar to arrays and matrices. In PyTorch, we use tensors to encode the inputs and outputs of a model, as well as the model's parameters. Tensors are similar to NumPy's ndarrays, except that tensors can run on GPUs or other hardware accelerators.\n",
        "\n",
        "- tensors enable intuitive and efficient matrix multiplications across different indexing and dimensions\n",
        "- as NN needs humongous multiplications\n",
        "- supports differentiation by default - helpful in backpropagation"
      ],
      "metadata": {
        "id": "WhCJ0BoV5Qeq"
      }
    },
    {
      "cell_type": "markdown",
      "source": [
        "in the following **a** is a regular array, whereas **b** is a torch tensor"
      ],
      "metadata": {
        "id": "WR8NOw5S5uEh"
      }
    },
    {
      "cell_type": "code",
      "source": [
        "a = np.random.rand(2, 3)\n",
        "b = torch.from_numpy(a) # torch obj\n",
        "\n",
        "print(a)\n",
        "print(b)"
      ],
      "metadata": {
        "colab": {
          "base_uri": "https://localhost:8080/"
        },
        "id": "umbkoe315U5c",
        "outputId": "5bbf01e8-1878-4d30-f73a-32e609b6f3b8"
      },
      "execution_count": 15,
      "outputs": [
        {
          "output_type": "stream",
          "name": "stdout",
          "text": [
            "[[0.16066598 0.67553124 0.81314135]\n",
            " [0.69974972 0.43803901 0.06494475]]\n",
            "tensor([[0.1607, 0.6755, 0.8131],\n",
            "        [0.6997, 0.4380, 0.0649]], dtype=torch.float64)\n"
          ]
        }
      ]
    },
    {
      "cell_type": "code",
      "source": [
        "A = torch.rand(2, 2)\n",
        "B = torch.rand(2, 1)\n",
        "x = torch.rand(2, 1, requires_grad = True)\n",
        "\n",
        "y = torch.matmul(A, x) + b\n",
        "print(y)"
      ],
      "metadata": {
        "colab": {
          "base_uri": "https://localhost:8080/"
        },
        "id": "yBs5s_XP6BQe",
        "outputId": "2607c132-d0fc-44ae-ec51-5922dcdf2001"
      },
      "execution_count": 16,
      "outputs": [
        {
          "output_type": "stream",
          "name": "stdout",
          "text": [
            "tensor([[0.7858, 1.3007, 1.4383],\n",
            "        [0.8710, 0.6093, 0.2362]], dtype=torch.float64, grad_fn=<AddBackward0>)\n"
          ]
        }
      ]
    },
    {
      "cell_type": "code",
      "source": [
        "z = y.sum()\n",
        "print(z)"
      ],
      "metadata": {
        "colab": {
          "base_uri": "https://localhost:8080/"
        },
        "id": "MDHrRSWpF_Ls",
        "outputId": "d1dc9332-7bff-4cd7-c4e5-4c9a685b17bb"
      },
      "execution_count": 17,
      "outputs": [
        {
          "output_type": "stream",
          "name": "stdout",
          "text": [
            "tensor(5.2413, dtype=torch.float64, grad_fn=<SumBackward0>)\n"
          ]
        }
      ]
    },
    {
      "cell_type": "code",
      "source": [
        "# dz/ dx\n",
        "z.backward()\n",
        "print(x)\n",
        "print(x.grad)\n"
      ],
      "metadata": {
        "colab": {
          "base_uri": "https://localhost:8080/"
        },
        "id": "_IOEoI-3GBuA",
        "outputId": "4a104893-09b1-4631-b3fd-495c36898ce7"
      },
      "execution_count": 18,
      "outputs": [
        {
          "output_type": "stream",
          "name": "stdout",
          "text": [
            "tensor([[0.9139],\n",
            "        [0.3359]], requires_grad=True)\n",
            "tensor([[1.3560],\n",
            "        [3.4234]])\n"
          ]
        }
      ]
    },
    {
      "cell_type": "markdown",
      "source": [
        "# Training neural nets in Torch\n",
        "\n",
        "Train a simple logistic classifier model on MNIST dataset"
      ],
      "metadata": {
        "id": "DID0Sw_0GfXP"
      }
    },
    {
      "cell_type": "code",
      "source": [
        "trainingData = torchvision.datasets.FashionMNIST('./FashionMNIST', train = True,  download= True, transform = torchvision.transforms.ToTensor())\n",
        "testData = torchvision.datasets.FashionMNIST('./FashionMNIST', train=False, download= True, transform=torchvision.transforms.ToTensor())"
      ],
      "metadata": {
        "id": "HHP5GnngGVTf"
      },
      "execution_count": 19,
      "outputs": []
    },
    {
      "cell_type": "code",
      "source": [
        "print(len(trainingData))\n",
        "print(len(testData))"
      ],
      "metadata": {
        "colab": {
          "base_uri": "https://localhost:8080/"
        },
        "id": "gLOXL7ypHlX3",
        "outputId": "48470ba4-ec59-4103-8001-df1a3e7fb571"
      },
      "execution_count": 20,
      "outputs": [
        {
          "output_type": "stream",
          "name": "stdout",
          "text": [
            "60000\n",
            "10000\n"
          ]
        }
      ]
    },
    {
      "cell_type": "code",
      "source": [
        "image, label = trainingData[0]\n",
        "print(image.shape, label)"
      ],
      "metadata": {
        "colab": {
          "base_uri": "https://localhost:8080/"
        },
        "id": "KvuOd1n6HvVh",
        "outputId": "551ed874-2dbc-46a2-84d6-1b63ce7f4223"
      },
      "execution_count": 21,
      "outputs": [
        {
          "output_type": "stream",
          "name": "stdout",
          "text": [
            "torch.Size([1, 28, 28]) 9\n"
          ]
        }
      ]
    },
    {
      "cell_type": "code",
      "source": [
        "from ast import increment_lineno\n",
        "import matplotlib.pyplot as plt\n",
        "\n",
        "%matplotlib inline\n",
        "\n",
        "plt.imshow(image.squeeze().numpy()) # as torch of size 1, 28, 28 , so squeeze it to 1D and convert to numpy array\n",
        "plt.show()"
      ],
      "metadata": {
        "colab": {
          "base_uri": "https://localhost:8080/",
          "height": 430
        },
        "id": "R71qwBTgH_XW",
        "outputId": "d07bead9-12bf-44a6-dbd1-6793eb276fad"
      },
      "execution_count": 22,
      "outputs": [
        {
          "output_type": "display_data",
          "data": {
            "text/plain": [
              "<Figure size 640x480 with 1 Axes>"
            ],
            "image/png": "[encoded data removed]"
          },
          "metadata": {}
        }
      ]
    },
    {
      "cell_type": "code",
      "source": [
        "trainDataLoader = torch.utils.data.DataLoader(trainingData, batch_size=64, shuffle = True)\n",
        "testDataLoader = torch.utils.data.DataLoader(testData, batch_size=64, shuffle=False)"
      ],
      "metadata": {
        "id": "nL_j-a_BIj4X"
      },
      "execution_count": 23,
      "outputs": []
    },
    {
      "cell_type": "code",
      "source": [
        "images, labels = next(iter(trainDataLoader))\n",
        "\n",
        "plt.figure(figsize=(10,4))\n",
        "for index in np.arange(0,4):\n",
        "  plt.subplot(1, 4, index + 1)\n",
        "  plt.imshow(images[index].squeeze().numpy(), cmap=plt.cm.gray)"
      ],
      "metadata": {
        "colab": {
          "base_uri": "https://localhost:8080/",
          "height": 231
        },
        "id": "D1KYJ7xTJFaO",
        "outputId": "5ddec82f-8ff7-48b7-b472-d24bba5d5142"
      },
      "execution_count": 24,
      "outputs": [
        {
          "output_type": "display_data",
          "data": {
            "text/plain": [
              "<Figure size 1000x400 with 4 Axes>"
            ],
            "image/png": "[encoded data removed]"
          },
          "metadata": {}
        }
      ]
    },
    {
      "cell_type": "markdown",
      "source": [
        "Torch is Object oriented"
      ],
      "metadata": {
        "id": "lZ6ZN7FuM_53"
      }
    },
    {
      "cell_type": "code",
      "source": [
        "class LinearReg(torch.nn.Module):\n",
        "  def __init__(self):\n",
        "    super(LinearReg, self).__init__()\n",
        "    self.linear = torch.nn.Linear(28*28, 10) #defined a torch linear layer with 28x28 dims and 10 classes\n",
        "\n",
        "  def forward(self, x):\n",
        "    x = x.view(-1, 28*28) #flattens the input vector with view func()\n",
        "    transformed_x = self.linear(x) # single layer multiplication\n",
        "    return transformed_x\n",
        "\n",
        "#Step 1\n",
        "net = LinearReg().cuda() # we are using GPU using the cuda method and created a NN object\n",
        "\n",
        "# Step2\n",
        "loss = torch.nn.CrossEntropyLoss()\n",
        "optimizer = torch.optim.SGD(net.parameters(), lr = 0.01)"
      ],
      "metadata": {
        "id": "r2BJXVD3L-mb"
      },
      "execution_count": 25,
      "outputs": []
    },
    {
      "cell_type": "code",
      "source": [
        "train_loss_history = []\n",
        "test_loss_history = []\n",
        "\n",
        "for epoch in range(20):\n",
        "  train_loss = 0.0\n",
        "  test_loss = 0.0\n",
        "\n",
        "  for i, data in enumerate(trainDataLoader):\n",
        "    images, labels = data\n",
        "\n",
        "    # send images and labels to GPU\n",
        "    images = images.cuda()\n",
        "    labels = labels.cuda()\n",
        "    optimizer.zero_grad() #zero batch gradient\n",
        "    predicted_image = net(images)\n",
        "\n",
        "    fit = loss(predicted_image, labels)\n",
        "    fit.backward() # back propagation\n",
        "    optimizer.step()\n",
        "\n",
        "    train_loss = fit.item() # trigger the training\n",
        "\n",
        "\n",
        "  for i in enumerate(testDataLoader):\n",
        "    with torch.no_grad():\n",
        "      images, labels = data\n",
        "      images = images.cuda()\n",
        "      labels = labels.cuda()\n",
        "\n",
        "      predicted_image = net(images)\n",
        "      fit = loss(predicted_image, labels)\n",
        "\n",
        "      test_loss = fit.item()\n",
        "\n",
        "\n",
        "train_loss = train_loss / len(trainDataLoader) # no. of datapoints\n",
        "test_loss = test_loss / len(testDataLoader)\n",
        "\n",
        "train_loss_history.append(train_loss)\n",
        "test_loss_history.append(test_loss)\n",
        "\n",
        "print(f\"Epoch {epoch} , train_loss {train_loss}, test_loss {test_loss}\")"
      ],
      "metadata": {
        "id": "oeGwO7JcEI_k"
      },
      "execution_count": null,
      "outputs": []
    }
  ]
}